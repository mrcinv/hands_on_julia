{
 "cells": [
  {
   "cell_type": "markdown",
   "metadata": {
    "deletable": true,
    "editable": true,
    "slideshow": {
     "slide_type": "slide"
    }
   },
   "source": [
    "# Zakaj Julia?"
   ]
  },
  {
   "cell_type": "markdown",
   "metadata": {
    "deletable": true,
    "editable": true,
    "slideshow": {
     "slide_type": "fragment"
    }
   },
   "source": [
    "# \"Zakaj tratiti dragoceni čas z učenjem še enega  programskega jezika??\""
   ]
  },
  {
   "cell_type": "markdown",
   "metadata": {
    "deletable": true,
    "editable": true,
    "slideshow": {
     "slide_type": "fragment"
    }
   },
   "source": [
    "## [Martin Vuk](mailto:martin.vuk@fri.uni-lj.si)\n",
    "\n",
    "\n",
    "\n",
    "### Fakulteta za računalništvo in informatiko\n",
    "### Univerza v Ljubljani\n",
    "\n",
    "\n",
    "### GitHub:  mrcinv\n",
    "\n",
    "Tečaj je osnovan na gradivu D. P. Sanders"
   ]
  },
  {
   "cell_type": "markdown",
   "metadata": {
    "deletable": true,
    "editable": true,
    "slideshow": {
     "slide_type": "slide"
    }
   },
   "source": [
    "# Prednosti Julie"
   ]
  },
  {
   "cell_type": "markdown",
   "metadata": {
    "deletable": true,
    "editable": true,
    "slideshow": {
     "slide_type": "fragment"
    }
   },
   "source": [
    "Julia je:\n",
    "\n",
    "- visokonivojski jezik, ki se ga je preprosto naučiti\n",
    "- interaktiven\n",
    "- ampak Just-In-Time (JIT) preveden"
   ]
  },
  {
   "cell_type": "markdown",
   "metadata": {
    "deletable": true,
    "editable": true,
    "slideshow": {
     "slide_type": "fragment"
    }
   },
   "source": [
    "Posledično je Julia\n",
    "\n",
    "- hitra (~2-3x hitrosti C-ja)\n",
    "\n",
    "- reši zloglasni **problem dveh jezikov**\n",
    "\n"
   ]
  },
  {
   "cell_type": "markdown",
   "metadata": {
    "deletable": true,
    "editable": true,
    "slideshow": {
     "slide_type": "fragment"
    }
   },
   "source": [
    "\n",
    "- večina knjižnic, vključno s standardno, je implementirana *v Julii sami*\n",
    "\n",
    "- \"Uporabniki so tudi razvijalci\"\n"
   ]
  },
  {
   "cell_type": "markdown",
   "metadata": {
    "deletable": true,
    "editable": true,
    "slideshow": {
     "slide_type": "subslide"
    }
   },
   "source": [
    "Julia:\n",
    "\n",
    "- ima sofisticiran sistem tipov\n",
    "- ampak ni potrebe, da bi govorili o tipih (raje ne, če ni treba)\n",
    "\n",
    "- ima *multiple dispatch*: specializirane funkcije glede na tip argumentov\n",
    "\n"
   ]
  },
  {
   "cell_type": "markdown",
   "metadata": {
    "deletable": true,
    "editable": true,
    "slideshow": {
     "slide_type": "fragment"
    }
   },
   "source": [
    "\n",
    "- pozna *metaprogramming* (makroje) za generiranje kode s programom\n",
    "- omogoča ustvarjanje domensko specifičnih jezikov\n"
   ]
  },
  {
   "cell_type": "markdown",
   "metadata": {
    "deletable": true,
    "editable": true,
    "slideshow": {
     "slide_type": "subslide"
    }
   },
   "source": [
    "Julia:\n",
    "\n",
    "- ima odprto kodo\n",
    "\n",
    "- je zastonj\n",
    "\n",
    "- MIT license (dovoli komercialno uporabo)\n",
    "\n",
    "- jo razvija mednarodna skupnost razvijalcev (glavni so z MIt)"
   ]
  },
  {
   "cell_type": "markdown",
   "metadata": {
    "deletable": true,
    "editable": true,
    "slideshow": {
     "slide_type": "slide"
    }
   },
   "source": [
    "# Slabosti Julie"
   ]
  },
  {
   "cell_type": "markdown",
   "metadata": {
    "slideshow": {
     "slide_type": "subslide"
    }
   },
   "source": [
    "Julia:\n",
    " * je v alfa stadiju (ver 0.x)\n",
    " * sintaksa in tudi lastnosti jezika se še spreminjajo\n",
    " * tipi znajo biti nadležni (pišite generične funkcije, če se le da)"
   ]
  },
  {
   "cell_type": "markdown",
   "metadata": {
    "slideshow": {
     "slide_type": "slide"
    }
   },
   "source": [
    "# Uporaba Julie"
   ]
  },
  {
   "cell_type": "markdown",
   "metadata": {
    "deletable": true,
    "editable": true,
    "slideshow": {
     "slide_type": "subslide"
    }
   },
   "source": [
    "- Ukazna vrstica REPL (Read--Eval--Print Loop):\n",
    "\n",
    "        julia\n",
    "    \n",
    "    \n",
    "    \n",
    "- z IJulia zvezkom (Jupyter zvezek):\n",
    "\n",
    "        jupyter notebook\n",
    "\n",
    "\n",
    "\n",
    "- znotraj IDE, npr. Juno\n",
    "\n",
    "\n",
    "\n",
    "- V oblaku: [JuliaBox](https://juliabox.org/)"
   ]
  },
  {
   "cell_type": "markdown",
   "metadata": {
    "deletable": true,
    "editable": true,
    "slideshow": {
     "slide_type": "slide"
    }
   },
   "source": [
    "# Pomoč pri Julii"
   ]
  },
  {
   "cell_type": "markdown",
   "metadata": {
    "deletable": true,
    "editable": true,
    "slideshow": {
     "slide_type": "fragment"
    }
   },
   "source": [
    "- [Julia priročnik](http://julia.readthedocs.org/en/latest/manual)\n",
    "\n",
    "- [`julia-users` dopisni seznam](https://groups.google.com/forum/#!forum/julia-users)\n",
    "\n",
    "- [seznam virov za učenje Julie](http://julialang.org/learning/)\n",
    "\n",
    "- [stackoverflow](http://stackoverflow.com/questions/tagged/julia-lang)\n",
    "\n"
   ]
  },
  {
   "cell_type": "markdown",
   "metadata": {
    "deletable": true,
    "editable": true,
    "slideshow": {
     "slide_type": "slide"
    }
   },
   "source": [
    "# Cilj tečaja "
   ]
  },
  {
   "cell_type": "markdown",
   "metadata": {
    "deletable": true,
    "editable": true,
    "slideshow": {
     "slide_type": "subslide"
    }
   },
   "source": [
    "- Spoznavanje in navajanje na Julio\n",
    "\n",
    "\n",
    "- vas prepričati, da NE tratite časa\n",
    "\n",
    "\n",
    "- Predstaviti dobro prakso programiranja v Julii\n"
   ]
  },
  {
   "cell_type": "markdown",
   "metadata": {
    "deletable": true,
    "editable": true,
    "slideshow": {
     "slide_type": "slide"
    }
   },
   "source": [
    "# Potek tečaja\n",
    "\n",
    "- veliko poskušanja\n",
    "\n",
    "\n",
    "- Kratka vprašanja in usmerjene vaje\n",
    "\n",
    "\n",
    "- Delo v parih, skupinah\n",
    "\n",
    "\n",
    "- **SPRAŠUJTE!!**\n",
    "\n"
   ]
  }
 ],
 "metadata": {
  "celltoolbar": "Slideshow",
  "kernelspec": {
   "display_name": "Julia 0.5.0",
   "language": "julia",
   "name": "julia-0.5"
  },
  "language_info": {
   "file_extension": ".jl",
   "mimetype": "application/julia",
   "name": "julia",
   "version": "0.5.0"
  }
 },
 "nbformat": 4,
 "nbformat_minor": 0
}
